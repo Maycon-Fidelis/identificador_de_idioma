{
 "cells": [
  {
   "cell_type": "code",
   "execution_count": null,
   "id": "79f0a24c-7bc7-4c3c-ba6f-3ca16034318f",
   "metadata": {},
   "outputs": [],
   "source": [
    "import pandas as pd\n",
    "import numpy as np\n",
    "from sklearn.model_selection import train_test_split\n",
    "from sklearn.feature_extraction.text import CountVectorizer\n",
    "from sklearn.naive_bayes import MultinomialNB\n",
    "from sklearn.metrics import accuracy_score, classification_report\n"
   ]
  },
  {
   "cell_type": "code",
   "execution_count": 2,
   "id": "497d9aad-4120-4fd4-b3cc-eabbd94c90ed",
   "metadata": {},
   "outputs": [],
   "source": [
    "#importando os idiomas Português, inglês e Alemão\n",
    "eng_port = pd.read_csv('data/por.txt', delimiter='\\t', header=None, names=['Inglês', 'Português', 'Licença'])\n",
    "eng_deu = pd.read_csv('data/deu.txt', delimiter='\\t', header=None, names=['Inglês', 'Alemão', 'Licença'])\n"
   ]
  },
  {
   "cell_type": "code",
   "execution_count": 3,
   "id": "3b51665b-5932-4669-b744-20396bc3c09f",
   "metadata": {},
   "outputs": [
    {
     "name": "stdout",
     "output_type": "stream",
     "text": [
      "  Inglês Português                                            Licença\n",
      "0    Go.      Vai.  CC-BY 2.0 (France) Attribution: tatoeba.org #2...\n",
      "1    Go.       Vá.  CC-BY 2.0 (France) Attribution: tatoeba.org #2...\n",
      "2    Hi.       Oi.  CC-BY 2.0 (France) Attribution: tatoeba.org #5...\n",
      "3   Run!    Corre!  CC-BY 2.0 (France) Attribution: tatoeba.org #9...\n",
      "4   Run!    Corra!  CC-BY 2.0 (France) Attribution: tatoeba.org #9...\n",
      "  Inglês      Alemão                                            Licença\n",
      "0    Go.        Geh.  CC-BY 2.0 (France) Attribution: tatoeba.org #2...\n",
      "1    Hi.      Hallo!  CC-BY 2.0 (France) Attribution: tatoeba.org #5...\n",
      "2    Hi.  Grüß Gott!  CC-BY 2.0 (France) Attribution: tatoeba.org #5...\n",
      "3   Run!       Lauf!  CC-BY 2.0 (France) Attribution: tatoeba.org #9...\n",
      "4   Run.       Lauf!  CC-BY 2.0 (France) Attribution: tatoeba.org #4...\n"
     ]
    }
   ],
   "source": [
    "# Conferindo informações deles\n",
    "print(eng_port.head())\n",
    "print(eng_deu.head())\n"
   ]
  },
  {
   "cell_type": "code",
   "execution_count": 4,
   "id": "87e1dc5c-6299-48cb-80c8-c5dec95fe8fc",
   "metadata": {},
   "outputs": [
    {
     "name": "stdout",
     "output_type": "stream",
     "text": [
      "    texto     idioma\n",
      "0    Vai.  Português\n",
      "1     Vá.  Português\n",
      "2     Oi.  Português\n",
      "3  Corre!  Português\n",
      "4  Corra!  Português\n",
      "        texto  idioma\n",
      "0        Geh.  Alemão\n",
      "1      Hallo!  Alemão\n",
      "2  Grüß Gott!  Alemão\n",
      "3       Lauf!  Alemão\n",
      "4       Lauf!  Alemão\n"
     ]
    }
   ],
   "source": [
    "# Pegando os dados de Portugês e Alemão\n",
    "portugues_data = pd.DataFrame({'texto': eng_port['Português'], 'idioma': 'Português'})\n",
    "print(portugues_data.head())\n",
    "\n",
    "alemao_data = pd.DataFrame({'texto': eng_deu['Alemão'], 'idioma': 'Alemão'})\n",
    "print(alemao_data.head())\n"
   ]
  },
  {
   "cell_type": "code",
   "execution_count": 5,
   "id": "50813ef8-5939-4c33-b728-702566fae8e0",
   "metadata": {},
   "outputs": [
    {
     "name": "stdout",
     "output_type": "stream",
     "text": [
      "(193633,)\n",
      "(277891,)\n"
     ]
    }
   ],
   "source": [
    "ingles_data1 = eng_port['Inglês']\n",
    "ingles_data2 = eng_deu['Inglês']\n",
    "\n",
    "print(ingles_data1.shape)\n",
    "print(ingles_data2.shape)\n"
   ]
  },
  {
   "cell_type": "code",
   "execution_count": 6,
   "id": "881bd3ed-330d-4f71-9aa1-3389a32e0c53",
   "metadata": {},
   "outputs": [
    {
     "name": "stdout",
     "output_type": "stream",
     "text": [
      "(471524,)\n",
      "(303531, 2)\n"
     ]
    }
   ],
   "source": [
    "# Concatenando os dados\n",
    "ingles_concat = pd.concat([ingles_data1,ingles_data2])\n",
    "print(ingles_concat.shape)\n",
    "\n",
    "# Retirando dados duplicados\n",
    "ingles_concat = ingles_concat.drop_duplicates()\n",
    "\n",
    "#Transformando em DataFrame\n",
    "ingles_data = pd.DataFrame({'texto': ingles_concat, 'idioma': 'Inglês'})\n",
    "print(ingles_data.shape)\n"
   ]
  },
  {
   "cell_type": "code",
   "execution_count": 7,
   "id": "0903416e-2017-42ce-aa22-313a9f069224",
   "metadata": {},
   "outputs": [
    {
     "name": "stdout",
     "output_type": "stream",
     "text": [
      "(775055, 2)\n",
      "(731607, 2)\n"
     ]
    }
   ],
   "source": [
    "#Conatenando todos os dados:\n",
    "df_linguas = pd.concat([portugues_data,alemao_data,ingles_data])\n",
    "print(df_linguas.shape)\n",
    "\n",
    "df_linguas = df_linguas.drop_duplicates()\n",
    "print(df_linguas.shape)"
   ]
  },
  {
   "cell_type": "code",
   "execution_count": 8,
   "id": "7ad7d0d2-781f-4692-85d1-0e2e2d59b7b7",
   "metadata": {},
   "outputs": [],
   "source": [
    "X = df_linguas['texto']\n",
    "y = df_linguas['idioma']"
   ]
  },
  {
   "cell_type": "code",
   "execution_count": 9,
   "id": "7311ae92-b08e-4cc8-a041-47bfa8360889",
   "metadata": {},
   "outputs": [],
   "source": [
    "\n",
    "# Criando treino e teste\n",
    "x_train, x_test, y_train, y_test = train_test_split(X, y, test_size=0.2, random_state=42)"
   ]
  },
  {
   "cell_type": "code",
   "execution_count": 10,
   "id": "3ce995b7-bcc8-46f3-a023-0c6b81579e80",
   "metadata": {},
   "outputs": [],
   "source": [
    "\n",
    "vectorizer = CountVectorizer()\n",
    "\n",
    "x_train_counts = vectorizer.fit_transform(x_train)\n",
    "x_test_counts = vectorizer.transform(x_test)"
   ]
  },
  {
   "cell_type": "code",
   "execution_count": 11,
   "id": "6cef1eda-8756-4a2f-b475-3882fb338e66",
   "metadata": {},
   "outputs": [],
   "source": [
    "\n",
    "clf = MultinomialNB()\n",
    "clf.fit(x_train_counts, y_train)\n",
    "\n",
    "y_pred = clf.predict(x_test_counts)"
   ]
  },
  {
   "cell_type": "code",
   "execution_count": 12,
   "id": "64c4a2ca-81de-42e8-a427-459ba15e657c",
   "metadata": {},
   "outputs": [
    {
     "name": "stdout",
     "output_type": "stream",
     "text": [
      "Acurácia: 0.9994737633438581\n",
      "              precision    recall  f1-score   support\n",
      "\n",
      "      Alemão       1.00      1.00      1.00     49647\n",
      "      Inglês       1.00      1.00      1.00     60815\n",
      "   Português       1.00      1.00      1.00     35860\n",
      "\n",
      "    accuracy                           1.00    146322\n",
      "   macro avg       1.00      1.00      1.00    146322\n",
      "weighted avg       1.00      1.00      1.00    146322\n",
      "\n"
     ]
    }
   ],
   "source": [
    "\n",
    "print(f'Acurácia: {accuracy_score(y_test, y_pred)}')\n",
    "print(classification_report(y_test, y_pred))\n"
   ]
  },
  {
   "cell_type": "code",
   "execution_count": 25,
   "id": "c544a1b7-475d-40aa-a16e-40cfeb9afec9",
   "metadata": {},
   "outputs": [],
   "source": [
    "\n",
    "\n",
    "#Função para executar o modelo\n",
    "def detectar_idioma(frase):\n",
    "    frase_count = vectorizer.transform([frase])\n",
    "    probabilidades = clf.predict_proba(frase_count)[0]  # Use predict_proba para obter probabilidades\n",
    "\n",
    "    maior_probabilidade = np.argmax(probabilidades)\n",
    "    \n",
    "    # Lógica para retornar respostas condizentes, evitando chutes com probabilidade baixa\n",
    "    if probabilidades[maior_probabilidade] > 0.3:\n",
    "        return clf.classes_[maior_probabilidade]\n",
    "    else:\n",
    "        return 'idioma desconhecido'"
   ]
  },
  {
   "cell_type": "code",
   "execution_count": 26,
   "id": "f68d9788-7031-4ec2-af3e-273145aa97d7",
   "metadata": {
    "scrolled": true
   },
   "outputs": [
    {
     "name": "stdout",
     "output_type": "stream",
     "text": [
      "Português\n",
      "Alemão\n",
      "Inglês\n",
      "idioma desconhecido\n"
     ]
    }
   ],
   "source": [
    "print(detectar_idioma('Eu estou certo'))  # Deve retornar 'Português'\n",
    "print(detectar_idioma('Ich bin mir sicher'))  # Deve retornar 'Alemão'\n",
    "print(detectar_idioma('I am sure'))  # Deve retornar 'Inglês'\n",
    "print(detectar_idioma('باليقين'))  # Deve retornar 'idioma desconhecido'"
   ]
  },
  {
   "cell_type": "code",
   "execution_count": null,
   "id": "ddc9e351-de18-4c87-896e-7483c32200e0",
   "metadata": {},
   "outputs": [],
   "source": []
  }
 ],
 "metadata": {
  "kernelspec": {
   "display_name": "Python 3 (ipykernel)",
   "language": "python",
   "name": "python3"
  },
  "language_info": {
   "codemirror_mode": {
    "name": "ipython",
    "version": 3
   },
   "file_extension": ".py",
   "mimetype": "text/x-python",
   "name": "python",
   "nbconvert_exporter": "python",
   "pygments_lexer": "ipython3",
   "version": "3.12.3"
  }
 },
 "nbformat": 4,
 "nbformat_minor": 5
}
